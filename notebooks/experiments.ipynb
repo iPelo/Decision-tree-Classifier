{
 "cells": [
  {
   "cell_type": "code",
   "execution_count": null,
   "id": "initial_id",
   "metadata": {
    "collapsed": true
   },
   "outputs": [],
   "source": [
    "# Part 1 — Load the Data and Pick Features\n",
    "\n",
    "In this step we:\n",
    "- read the `mydata.csv` file\n",
    "- drop non-feature columns (`date`, `stadium`, team names, etc.)\n",
    "- keep only numeric features\n",
    "- set `class` as the target (values: h/a/d)\n",
    "- fill any missing numeric values with median"
   ]
  },
  {
   "metadata": {},
   "cell_type": "code",
   "outputs": [],
   "execution_count": null,
   "source": [
    "# Part 1: load + select features\n",
    "\n",
    "from pathlib import Path\n",
    "import pandas as pd\n",
    "import numpy as np\n",
    "\n",
    "HERE = Path(__file__).resolve().parent if \"__file__\" in globals() else Path(\".\")\n",
    "DATA1 = HERE / \"data\" / \"mydata.csv\"\n",
    "DATA2 = HERE.parent / \"data\" / \"mydata.csv\"\n",
    "DATA = DATA1 if DATA1.exists() else DATA2\n",
    "\n",
    "df = pd.read_csv(DATA)\n",
    "print(\"loaded:\", DATA)\n",
    "print(\"shape:\", df.shape)\n",
    "print(df.head(3))\n",
    "\n",
    "TARGET = \"class\"\n",
    "drop_cols = [\n",
    "    \"date\", \"clock\", \"stadium\", \"attendance\", \"links\",\n",
    "    \"Home Team\", \"Away Team\"\n",
    "]\n",
    "\n",
    "y = df[TARGET].copy()\n",
    "X = df.drop(columns=[TARGET] + [c for c in drop_cols if c in df.columns], errors=\"ignore\")\n",
    "\n",
    "X = X.select_dtypes(include=[np.number]).copy()\n",
    "X = X.fillna(X.median(numeric_only=True))\n",
    "\n",
    "print(\"features:\", X.shape[1], \"| rows:\", X.shape[0])\n",
    "print(\"class balance:\", y.value_counts().to_dict())"
   ],
   "id": "ccb21f4bbbb48902"
  },
  {
   "metadata": {},
   "cell_type": "markdown",
   "source": [
    "# Part 2 — Label Encoding + Train/Test Split\n",
    "\n",
    "- Turn the target labels (`h`, `a`, `d`) into numbers so the model can train.\n",
    "- Save the mapping so we remember which number means what.\n",
    "- Do an 80/20 **stratified** split to keep class balance.\n",
    "- Keep it reproducible with a fixed `random_state`."
   ],
   "id": "bf8c6fbb47c98fa6"
  },
  {
   "metadata": {},
   "cell_type": "code",
   "outputs": [],
   "execution_count": null,
   "source": [
    "# Part 2: encode labels + split train/test\n",
    "\n",
    "from pathlib import Path\n",
    "import json\n",
    "from sklearn.model_selection import train_test_split\n",
    "\n",
    "OUT = Path(\"outputs\")\n",
    "OUT.mkdir(parents=True, exist_ok=True)\n",
    "\n",
    "# label encoding\n",
    "classes = sorted(y.dropna().unique().tolist())  # e.g., ['a','d','h']\n",
    "label_to_id = {c: i for i, c in enumerate(classes)}\n",
    "id_to_label = {v: k for k, v in label_to_id.items()}\n",
    "y_enc = y.map(label_to_id)\n",
    "\n",
    "# save mapping for later\n",
    "with open(OUT / \"label_mapping.json\", \"w\") as f:\n",
    "    json.dump({\"label_to_id\": label_to_id, \"id_to_label\": id_to_label}, f, indent=2)\n",
    "\n",
    "print(\"label_to_id:\", label_to_id)\n",
    "\n",
    "# split\n",
    "X_train, X_test, y_train, y_test = train_test_split(\n",
    "    X, y_enc, test_size=0.2, random_state=42, stratify=y_enc\n",
    ")\n",
    "\n",
    "print(\"train size:\", len(y_train), \"| test size:\", len(y_test))\n",
    "print(\"train class balance:\", y_train.value_counts().to_dict())\n",
    "print(\"test class balance:\", y_test.value_counts().to_dict())"
   ],
   "id": "5f02f4838cb91692"
  }
 ],
 "metadata": {
  "kernelspec": {
   "display_name": "Python 3",
   "language": "python",
   "name": "python3"
  },
  "language_info": {
   "codemirror_mode": {
    "name": "ipython",
    "version": 2
   },
   "file_extension": ".py",
   "mimetype": "text/x-python",
   "name": "python",
   "nbconvert_exporter": "python",
   "pygments_lexer": "ipython2",
   "version": "2.7.6"
  }
 },
 "nbformat": 4,
 "nbformat_minor": 5
}
